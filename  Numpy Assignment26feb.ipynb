{
 "cells": [
  {
   "cell_type": "code",
   "execution_count": 1,
   "metadata": {},
   "outputs": [],
   "source": [
    "import numpy as np\n",
    "list_ = ['1','2','3','4','5']\n",
    "array_list = np.array(object = list_)"
   ]
  },
  {
   "cell_type": "markdown",
   "metadata": {},
   "source": [
    "## Q1. Is there any difference in the data type of variables list_ and array_list? If there is then write a code to print the data types of both the variables."
   ]
  },
  {
   "cell_type": "markdown",
   "metadata": {},
   "source": [
    "Yes, there is a difference between the data types of list and an array_list."
   ]
  },
  {
   "cell_type": "code",
   "execution_count": 4,
   "metadata": {},
   "outputs": [
    {
     "name": "stdout",
     "output_type": "stream",
     "text": [
      "<class 'list'>\n",
      "<class 'numpy.ndarray'>\n"
     ]
    }
   ],
   "source": [
    "\n",
    "print(type(list_))\n",
    "print(type(array_list))\n"
   ]
  },
  {
   "cell_type": "markdown",
   "metadata": {},
   "source": [
    "## Q2. Write a code to print the data type of each and every element of both the variables list_ and arra_list."
   ]
  },
  {
   "cell_type": "code",
   "execution_count": 5,
   "metadata": {},
   "outputs": [
    {
     "name": "stdout",
     "output_type": "stream",
     "text": [
      "<class 'str'>\n",
      "<class 'str'>\n",
      "<class 'str'>\n",
      "<class 'str'>\n",
      "<class 'str'>\n",
      "<class 'numpy.str_'>\n",
      "<class 'numpy.str_'>\n",
      "<class 'numpy.str_'>\n",
      "<class 'numpy.str_'>\n",
      "<class 'numpy.str_'>\n"
     ]
    }
   ],
   "source": [
    "for elem in list_:\n",
    "    print(type(elem))\n",
    "    \n",
    "for elem in array_list:\n",
    "    print(type(elem))"
   ]
  },
  {
   "cell_type": "markdown",
   "metadata": {},
   "source": [
    "# Q3. Considering the following changes in the variable, array_list:\n",
    "\n",
    "array_list = np.array(object = list_, dtype = int)\n",
    "\n",
    "Will there be any difference in the data type of the elements present in both the variables, list_ and\n",
    "arra_list? If so then print the data types of each and every element present in both the variables, list_ and array_list."
   ]
  },
  {
   "cell_type": "code",
   "execution_count": 6,
   "metadata": {},
   "outputs": [],
   "source": [
    "array_list = np.array(object = list_, dtype = int)"
   ]
  },
  {
   "cell_type": "markdown",
   "metadata": {},
   "source": [
    "Yes, there will be a difference in data type of the elements"
   ]
  },
  {
   "cell_type": "code",
   "execution_count": 9,
   "metadata": {},
   "outputs": [
    {
     "name": "stdout",
     "output_type": "stream",
     "text": [
      "<class 'str'>\n",
      "<class 'str'>\n",
      "<class 'str'>\n",
      "<class 'str'>\n",
      "<class 'str'>\n",
      "<class 'numpy.int32'>\n",
      "<class 'numpy.int32'>\n",
      "<class 'numpy.int32'>\n",
      "<class 'numpy.int32'>\n",
      "<class 'numpy.int32'>\n"
     ]
    }
   ],
   "source": [
    "for elem in list_:\n",
    "    print(type(elem))\n",
    "    \n",
    "for elem in array_list:\n",
    "    print(type(elem))"
   ]
  },
  {
   "cell_type": "code",
   "execution_count": 13,
   "metadata": {},
   "outputs": [],
   "source": [
    "#Consider the below code to answer further questions:\n",
    "    \n",
    "import numpy as np\n",
    "num_list = [ [ 1 , 2 , 3 ] , [ 4 , 5 , 6 ] ]\n",
    "num_array = np.array(object = num_list)"
   ]
  },
  {
   "cell_type": "markdown",
   "metadata": {},
   "source": [
    "## Q4. Write a code to find the following characteristics of variable, num_array:\n",
    "\n",
    "(i) shape\n",
    "\n",
    "(ii) size"
   ]
  },
  {
   "cell_type": "code",
   "execution_count": 17,
   "metadata": {},
   "outputs": [
    {
     "name": "stdout",
     "output_type": "stream",
     "text": [
      "(2, 3)\n",
      "6\n"
     ]
    }
   ],
   "source": [
    "print(num_array.shape)\n",
    "print(num_array.size)"
   ]
  },
  {
   "cell_type": "markdown",
   "metadata": {},
   "source": [
    "## Q5. Write a code to create numpy array of 3*3 matrix containing zeros only, using a numpy array creation function.\n",
    "[Hint: The size of the array will be 9 and the shape will be (3,3).]"
   ]
  },
  {
   "cell_type": "code",
   "execution_count": 20,
   "metadata": {},
   "outputs": [
    {
     "name": "stdout",
     "output_type": "stream",
     "text": [
      "[[0. 0. 0.]\n",
      " [0. 0. 0.]\n",
      " [0. 0. 0.]]\n"
     ]
    }
   ],
   "source": [
    "array = np.zeros((3,3))\n",
    "print(array)"
   ]
  },
  {
   "cell_type": "markdown",
   "metadata": {},
   "source": [
    "## Q6. Create an identity matrix of shape (5,5) using numpy functions?\n",
    "[Hint: An identity matrix is a matrix containing 1 diagonally and other elements will be 0.]"
   ]
  },
  {
   "cell_type": "code",
   "execution_count": 24,
   "metadata": {},
   "outputs": [
    {
     "name": "stdout",
     "output_type": "stream",
     "text": [
      "[[1. 0. 0. 0. 0.]\n",
      " [0. 1. 0. 0. 0.]\n",
      " [0. 0. 1. 0. 0.]\n",
      " [0. 0. 0. 1. 0.]\n",
      " [0. 0. 0. 0. 1.]]\n"
     ]
    }
   ],
   "source": [
    "array = np.identity(5)\n",
    "print(array)"
   ]
  },
  {
   "cell_type": "code",
   "execution_count": null,
   "metadata": {},
   "outputs": [],
   "source": []
  }
 ],
 "metadata": {
  "kernelspec": {
   "display_name": "Python 3",
   "language": "python",
   "name": "python3"
  },
  "language_info": {
   "codemirror_mode": {
    "name": "ipython",
    "version": 3
   },
   "file_extension": ".py",
   "mimetype": "text/x-python",
   "name": "python",
   "nbconvert_exporter": "python",
   "pygments_lexer": "ipython3",
   "version": "3.8.8"
  }
 },
 "nbformat": 4,
 "nbformat_minor": 4
}
