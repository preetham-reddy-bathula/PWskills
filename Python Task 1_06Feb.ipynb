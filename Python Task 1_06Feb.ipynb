{
 "cells": [
  {
   "cell_type": "markdown",
   "metadata": {},
   "source": [
    "## Q1. Create a function which will take a list as an argument and return the product of all the numbers after creating a flat list. Use the below-given list as an argument for your function. list1 = [1,2,3,4, [44,55,66, True], False, (34,56,78,89,34), {1,2,3,3,2,1}, {1:34, \"key2\": [55, 67, 78, 89], 4: (45, 22, 61, 34)}, [56, 'data science'], 'Machine Learning']\n",
    "Note: you must extract numeric keys and values of the dictionary also."
   ]
  },
  {
   "cell_type": "code",
   "execution_count": 1,
   "metadata": {},
   "outputs": [
    {
     "name": "stdout",
     "output_type": "stream",
     "text": [
      "689118639831180913138973540352000\n"
     ]
    }
   ],
   "source": [
    "def flatten_list(lst):\n",
    "    flat_list = []\n",
    "    def flatten(lst):\n",
    "        for i in lst:\n",
    "            if type(i) == int or type(i) == float:\n",
    "                flat_list.append(i)\n",
    "            elif type(i) == str and i.isnumeric():\n",
    "                flat_list.append(int(i))\n",
    "            elif type(i) == list or type(i) == tuple:\n",
    "                flatten(i)\n",
    "            elif type(i) == dict:\n",
    "                for key, value in i.items():\n",
    "                    if type(key) == int or type(key) == float:\n",
    "                        flat_list.append(key)\n",
    "                    if type(value) == int or type(value) == float:\n",
    "                        flat_list.append(value)\n",
    "                    elif type(value) == list or type(value) == tuple:\n",
    "                        flatten(value)\n",
    "    flatten(lst)\n",
    "    product = 1\n",
    "    for num in flat_list:\n",
    "        product *= num\n",
    "    return product\n",
    "\n",
    "list1 = [1,2,3,4, [44,55,66, True], False, (34,56,78,89,34), {1,2,3,3,2,1}, {1:34, \"key2\": [55, 67, 78, 89], 4: (45, 22, 61, 34)}, [56, 'data science'], 'Machine Learning']\n",
    "print(flatten_list(list1))\n"
   ]
  },
  {
   "cell_type": "markdown",
   "metadata": {},
   "source": [
    "## Q2. Write a python program for encrypting a message sent to you by your friend. The logic of encryption should be such that, for a the output should be z. For b, the output should be y. For c, the output should be x respectively. Also, the whitespace should be replaced with a dollar sign. Keep the punctuation marks unchanged.\n",
    "Input Sentence: I want to become a Data Scientist.\n",
    "Encrypt the above input sentence using the program you just created.\n",
    "Note: Convert the given input sentence into lowercase before encrypting. The final output should be\n",
    "lowercase."
   ]
  },
  {
   "cell_type": "code",
   "execution_count": 7,
   "metadata": {},
   "outputs": [
    {
     "name": "stdout",
     "output_type": "stream",
     "text": [
      "Encrypted Message: r$dzmg$gl$yvxlnv$z$wzgz$hxrvmgrhg.\n"
     ]
    }
   ],
   "source": [
    "def encrypt_message(message):\n",
    "    message = message.lower()\n",
    "    alphabet = \"abcdefghijklmnopqrstuvwxyz\"\n",
    "    encrypt_alphabet = \"zyxwvutsrqponmlkjihgfedcba\"\n",
    "    encrypt_text = \"\"\n",
    "    \n",
    "    for char in message:\n",
    "        if char in alphabet:\n",
    "            encrypt_text += encrypt_alphabet[alphabet.index(char)]\n",
    "        elif char == \" \":\n",
    "            encrypt_text += \"$\"\n",
    "        else:\n",
    "            encrypt_text += char\n",
    "    \n",
    "    return encrypt_text\n",
    "\n",
    "message = \"I want to become a Data Scientist.\"\n",
    "print(\"Encrypted Message:\", encrypt_message(message))\n"
   ]
  },
  {
   "cell_type": "code",
   "execution_count": null,
   "metadata": {},
   "outputs": [],
   "source": []
  }
 ],
 "metadata": {
  "kernelspec": {
   "display_name": "Python 3",
   "language": "python",
   "name": "python3"
  },
  "language_info": {
   "codemirror_mode": {
    "name": "ipython",
    "version": 3
   },
   "file_extension": ".py",
   "mimetype": "text/x-python",
   "name": "python",
   "nbconvert_exporter": "python",
   "pygments_lexer": "ipython3",
   "version": "3.8.8"
  }
 },
 "nbformat": 4,
 "nbformat_minor": 4
}
