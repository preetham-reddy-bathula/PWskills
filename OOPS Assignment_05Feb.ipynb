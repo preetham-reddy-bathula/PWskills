{
 "cells": [
  {
   "cell_type": "markdown",
   "metadata": {},
   "source": [
    "## Q1. Explain Class and Object with respect to Object-Oriented Programming. Give a suitable example."
   ]
  },
  {
   "cell_type": "markdown",
   "metadata": {},
   "source": [
    "Class and Object in Object-Oriented Programming (OOP) are two fundamental concepts. A class is a blueprint that defines the properties and behaviors of an object. An object is an instance of a class, created at runtime. For example, a \"Car\" class can have properties such as make, model, year, color, and behaviors such as start, stop, drive. A specific car object can have values for these properties, such as \"Toyota\", \"Camry\", \"2020\", \"red\"."
   ]
  },
  {
   "cell_type": "markdown",
   "metadata": {},
   "source": [
    "## Q2. Name the four pillars of OOPs."
   ]
  },
  {
   "cell_type": "markdown",
   "metadata": {},
   "source": [
    "The four pillars of OOPs are:\n",
    "\n",
    "Abstraction: The ability to hide the implementation details and show only relevant information to the user.\n",
    "\n",
    "Encapsulation: The wrapping of data and functions within an object.\n",
    "\n",
    "Inheritance: The ability to inherit properties and behaviors from a parent class to a child class.\n",
    "\n",
    "Polymorphism: The ability to use an object in multiple forms."
   ]
  },
  {
   "cell_type": "markdown",
   "metadata": {},
   "source": [
    "## Q3. Explain why the _ _init_ _() function is used. Give a suitable example."
   ]
  },
  {
   "cell_type": "markdown",
   "metadata": {},
   "source": [
    "The _ _init_ _() function is used to initialize the object's properties when the object is created. It is automatically called by Python when an object is created. This is useful because it allows us to set the initial values for an object's properties. For example:"
   ]
  },
  {
   "cell_type": "code",
   "execution_count": 1,
   "metadata": {},
   "outputs": [],
   "source": [
    "class Car:\n",
    "    def __init__(self, make, model, year, color):\n",
    "        self.make = make\n",
    "        self.model = model\n",
    "        self.year = year\n",
    "        self.color = color\n",
    "\n",
    "my_car = Car(\"Toyota\", \"Camry\", 2020, \"red\")"
   ]
  },
  {
   "cell_type": "markdown",
   "metadata": {},
   "source": [
    "## Q4. Why self is used in OOPs?"
   ]
  },
  {
   "cell_type": "markdown",
   "metadata": {},
   "source": [
    "'self' is used in OOPs to refer to the current object. It is used to access the properties and methods of the current object. For example, in the code above, 'self.make' refers to the make property of the my_car object."
   ]
  },
  {
   "cell_type": "markdown",
   "metadata": {},
   "source": [
    "## Q5. What is inheritance? Give an example for each type of inheritance."
   ]
  },
  {
   "cell_type": "markdown",
   "metadata": {},
   "source": [
    "Inheritance is a mechanism in Object-Oriented Programming (OOP) that allows a child class to inherit properties and behaviors from a parent class. This helps to create new classes that are based on existing classes, reducing the amount of code required to be written. There are three types of inheritance:\n",
    "\n",
    "Single inheritance: A child class inherits from a single parent class. For example:"
   ]
  },
  {
   "cell_type": "code",
   "execution_count": 2,
   "metadata": {},
   "outputs": [],
   "source": [
    "class Parent:\n",
    "    def __init__(self, name):\n",
    "        self.name = name\n",
    "        \n",
    "    def display_name(self):\n",
    "        print(f\"Name: {self.name}\")\n",
    "        \n",
    "class Child(Parent):\n",
    "    def __init__(self, name, age):\n",
    "        Parent.__init__(self, name)\n",
    "        self.age = age\n",
    "        \n",
    "    def display_age(self):\n",
    "        print(f\"Age: {self.age}\")\n"
   ]
  },
  {
   "cell_type": "markdown",
   "metadata": {},
   "source": [
    "In this example, the Child class inherits from the Parent class and has access to the properties and methods of the Parent class.\n",
    "\n",
    "Multiple inheritance: A child class inherits from multiple parent classes. For example:"
   ]
  },
  {
   "cell_type": "code",
   "execution_count": 3,
   "metadata": {},
   "outputs": [],
   "source": [
    "class Parent1:\n",
    "    def __init__(self, name):\n",
    "        self.name = name\n",
    "        \n",
    "    def display_name(self):\n",
    "        print(f\"Name: {self.name}\")\n",
    "        \n",
    "class Parent2:\n",
    "    def __init__(self, age):\n",
    "        self.age = age\n",
    "        \n",
    "    def display_age(self):\n",
    "        print(f\"Age: {self.age}\")\n",
    "        \n",
    "class Child(Parent1, Parent2):\n",
    "    def __init__(self, name, age):\n",
    "        Parent1.__init__(self, name)\n",
    "        Parent2.__init__(self, age)\n"
   ]
  },
  {
   "cell_type": "markdown",
   "metadata": {},
   "source": [
    "In this example, the Child class inherits from both the Parent1 and Parent2 classes.\n",
    "\n",
    "Hierarchical inheritance: Multiple child classes inherit from a single parent class. For example:"
   ]
  },
  {
   "cell_type": "code",
   "execution_count": 4,
   "metadata": {},
   "outputs": [],
   "source": [
    "class Parent:\n",
    "    def __init__(self, name):\n",
    "        self.name = name\n",
    "        \n",
    "    def display_name(self):\n",
    "        print(f\"Name: {self.name}\")\n",
    "        \n",
    "class Child1(Parent):\n",
    "    def __init__(self, name, age):\n",
    "        Parent.__init__(self, name)\n",
    "        self.age = age\n",
    "        \n",
    "    def display_age(self):\n",
    "        print(f\"Age: {self.age}\")\n",
    "        \n",
    "class Child2(Parent):\n",
    "    def __init__(self, name, address):\n",
    "        Parent.__init__(self, name)\n",
    "        self.address = address\n",
    "        \n",
    "    def display_address(self):\n",
    "        print(f\"Address: {self.address}\")\n"
   ]
  },
  {
   "cell_type": "markdown",
   "metadata": {},
   "source": [
    "In this example, multiple child classes (Child1 and Child2) inherit from the same parent class (Parent)."
   ]
  },
  {
   "cell_type": "code",
   "execution_count": null,
   "metadata": {},
   "outputs": [],
   "source": []
  }
 ],
 "metadata": {
  "kernelspec": {
   "display_name": "Python 3",
   "language": "python",
   "name": "python3"
  },
  "language_info": {
   "codemirror_mode": {
    "name": "ipython",
    "version": 3
   },
   "file_extension": ".py",
   "mimetype": "text/x-python",
   "name": "python",
   "nbconvert_exporter": "python",
   "pygments_lexer": "ipython3",
   "version": "3.8.8"
  }
 },
 "nbformat": 4,
 "nbformat_minor": 4
}
