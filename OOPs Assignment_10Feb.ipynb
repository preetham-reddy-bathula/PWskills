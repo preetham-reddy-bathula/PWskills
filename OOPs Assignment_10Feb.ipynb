{
 "cells": [
  {
   "cell_type": "markdown",
   "metadata": {},
   "source": [
    "## Q1. Which function is used to open a file? What are the different modes of opening a file? Explain each mode of file opening."
   ]
  },
  {
   "cell_type": "markdown",
   "metadata": {},
   "source": [
    " The open() function is used to open a file in Python. The different modes of opening a file are:\n",
    "\n",
    "\"r\" (read mode) - opens the file for reading (default mode)\n",
    "\n",
    "\"w\" (write mode) - opens the file for writing, truncates the file if it exists, and creates a new file if it does not exist\n",
    "\n",
    "\"a\" (append mode) - opens the file for writing, but does not truncate the file if it exists, and creates a new file if it does not exist\n",
    "\n",
    "\"x\" (exclusive creation mode) - creates a new file and opens it for writing, but fails if the file already exists\n",
    "\n",
    "\"b\" (binary mode) - opens the file in binary mode, which is used for non-text files\n",
    "\n",
    "\"t\" (text mode) - opens the file in text mode, which is used for text files (default mode)"
   ]
  },
  {
   "cell_type": "markdown",
   "metadata": {},
   "source": [
    "## Q2. Why close() function is used? Why is it important to close a file?"
   ]
  },
  {
   "cell_type": "markdown",
   "metadata": {},
   "source": [
    "The close() function is used to close a file in Python. It is important to close a file because it releases the resources used by the file, and ensures that any data written to the file is saved."
   ]
  },
  {
   "cell_type": "markdown",
   "metadata": {},
   "source": [
    "## Q3. Write a python program to create a text file. Write ‘I want to become a Data Scientist’ in that file. Then close the file. Open this file and read the content of the file."
   ]
  },
  {
   "cell_type": "code",
   "execution_count": 1,
   "metadata": {},
   "outputs": [
    {
     "name": "stdout",
     "output_type": "stream",
     "text": [
      "I want to become a Data Scientist\n"
     ]
    }
   ],
   "source": [
    "# Open a file for writing\n",
    "file = open(\"ex.txt\", \"w\")\n",
    "\n",
    "# Write to the file\n",
    "file.write(\"I want to become a Data Scientist\")\n",
    "\n",
    "# Close the file\n",
    "file.close()\n",
    "\n",
    "# Open the file for reading\n",
    "file = open(\"ex.txt\", \"r\")\n",
    "\n",
    "# Read the content of the file\n",
    "content = file.read()\n",
    "\n",
    "# Close the file\n",
    "file.close()\n",
    "\n",
    "# Print the content of the file\n",
    "print(content)\n"
   ]
  },
  {
   "cell_type": "markdown",
   "metadata": {},
   "source": [
    "## Q4. Explain the following with python code: read(), readline() and readlines()."
   ]
  },
  {
   "cell_type": "markdown",
   "metadata": {},
   "source": [
    "The read() function is used to read the entire content of a file, while the readline() function is used to read a single line from a file. The readlines() function is used to read all the lines of a file and return them as a list."
   ]
  },
  {
   "cell_type": "code",
   "execution_count": null,
   "metadata": {},
   "outputs": [],
   "source": [
    "# Open a file for reading\n",
    "file = open(\"example.txt\", \"r\")\n",
    "\n",
    "# Read the entire content of the file\n",
    "content = file.read()\n",
    "\n",
    "# Read a single line from the file\n",
    "line = file.readline()\n",
    "\n",
    "# Read all the lines of the file and return them as a list\n",
    "lines = file.readlines()\n",
    "\n",
    "# Close the file\n",
    "file.close()\n"
   ]
  },
  {
   "cell_type": "markdown",
   "metadata": {},
   "source": [
    "## Q5. Explain why with statement is used with open(). What is the advantage of using with statement and open() together?"
   ]
  },
  {
   "cell_type": "markdown",
   "metadata": {},
   "source": [
    "The with statement is used with open() to ensure that a file is properly closed after it is used. The advantage of using the with statement and open() together is that it automatically closes the file after the block of code is executed, even if an exception is raised."
   ]
  },
  {
   "cell_type": "code",
   "execution_count": null,
   "metadata": {},
   "outputs": [],
   "source": [
    "with open(\"example.txt\", \"r\") as file:\n",
    "    # Read the content of the file\n",
    "    content = file.read()"
   ]
  },
  {
   "cell_type": "markdown",
   "metadata": {},
   "source": [
    "## Q6. Explain the write() and writelines() functions. Give a suitable example."
   ]
  },
  {
   "cell_type": "markdown",
   "metadata": {},
   "source": [
    " The write() function is used to write a string to a file, while the writelines() function is used to write a list of strings to a file. Here is an example:"
   ]
  },
  {
   "cell_type": "code",
   "execution_count": null,
   "metadata": {},
   "outputs": [],
   "source": [
    "# Open a file for writing\n",
    "file = open(\"example.txt\", \"w\")\n",
    "\n",
    "# Write a string to the file\n",
    "file.write(\"Hello, world!\\n\")\n",
    "\n",
    "# Write a list of strings to the file\n",
    "lines = [\"This is line 1\\n\", \"This is line 2\\n\", \"This is line 3\\n\"]\n",
    "file.writelines(lines)\n",
    "\n",
    "# Close the file\n",
    "file.close()"
   ]
  }
 ],
 "metadata": {
  "kernelspec": {
   "display_name": "Python 3",
   "language": "python",
   "name": "python3"
  },
  "language_info": {
   "codemirror_mode": {
    "name": "ipython",
    "version": 3
   },
   "file_extension": ".py",
   "mimetype": "text/x-python",
   "name": "python",
   "nbconvert_exporter": "python",
   "pygments_lexer": "ipython3",
   "version": "3.8.8"
  }
 },
 "nbformat": 4,
 "nbformat_minor": 4
}
