{
 "cells": [
  {
   "cell_type": "markdown",
   "metadata": {},
   "source": [
    "## Q1. What is a database? Differentiate between SQL and NoSQL databases."
   ]
  },
  {
   "cell_type": "markdown",
   "metadata": {},
   "source": [
    "A database is a collection of data that is organized and stored for easy retrieval and manipulation. A database management system (DBMS) is used to manage the database, and it allows users to create, read, update, and delete data from the database.\n",
    "\n",
    "SQL and NoSQL are two types of databases:\n",
    "\n",
    "SQL (Structured Query Language) databases are relational databases that use tables to store data. They have a well-defined schema that defines the structure of the database, and they use SQL to manipulate the data. SQL databases are useful for complex queries that require the joining of multiple tables.\n",
    "\n",
    "NoSQL (Not Only SQL) databases are non-relational databases that can store data in various formats such as key-value, document, or graph. They have a flexible schema that allows the addition of new data types without changing the existing data structure. NoSQL databases are useful for large-scale distributed systems and real-time applications."
   ]
  },
  {
   "cell_type": "markdown",
   "metadata": {},
   "source": [
    "## Q2. What is DDL? Explain why CREATE, DROP, ALTER, and TRUNCATE are used with an example."
   ]
  },
  {
   "cell_type": "markdown",
   "metadata": {},
   "source": [
    "DDL (Data Definition Language) is a subset of SQL that is used to define the structure of the database. It includes commands that create, modify, or delete tables, indexes, and other database objects.\n",
    "\n",
    "CREATE is used to create a new table in the database. For example, the following SQL command creates a new table called \"students\" with three columns:\n",
    "\n",
    "CREATE TABLE students (\n",
    "id INT NOT NULL,\n",
    "name VARCHAR(50),\n",
    "age INT,\n",
    "PRIMARY KEY (id)\n",
    ");\n",
    "\n",
    "DROP is used to delete a table from the database. For example, the following SQL command deletes the \"students\" table:\n",
    "\n",
    "DROP TABLE students;\n",
    "\n",
    "ALTER is used to modify the structure of a table. For example, the following SQL command adds a new column called \"email\" to the \"students\" table:\n",
    "\n",
    "ALTER TABLE students ADD email VARCHAR(50);\n",
    "\n",
    "TRUNCATE is used to delete all the rows in a table. For example, the following SQL command deletes all the rows in the \"students\" table:\n",
    "\n",
    "TRUNCATE TABLE students;"
   ]
  },
  {
   "cell_type": "markdown",
   "metadata": {},
   "source": [
    "## Q3. What is DML? Explain INSERT, UPDATE, and DELETE with an example."
   ]
  },
  {
   "cell_type": "markdown",
   "metadata": {},
   "source": [
    "DML (Data Manipulation Language) is a subset of SQL that is used to manipulate data within the database. It includes commands such as INSERT, UPDATE, and DELETE.\n",
    "\n",
    "INSERT is used to add new data to a table. For example, the following SQL command adds a new student to the \"students\" table:\n",
    "\n",
    "INSERT INTO students (id, name, age) VALUES (1, 'John', 20);\n",
    "\n",
    "UPDATE is used to modify existing data in a table. For example, the following SQL command updates the age of the student with id 1 in the \"students\" table:\n",
    "\n",
    "UPDATE students SET age = 21 WHERE id = 1;\n",
    "\n",
    "DELETE is used to remove data from a table. For example, the following SQL command deletes the student with id 1 from the \"students\" table:\n",
    "\n",
    "DELETE FROM students WHERE id = 1;"
   ]
  },
  {
   "cell_type": "markdown",
   "metadata": {},
   "source": [
    "## Q4. What is DQL? Explain SELECT with an example.\n",
    "\n",
    " "
   ]
  },
  {
   "cell_type": "markdown",
   "metadata": {},
   "source": [
    "DQL (Data Query Language) is a subset of SQL that is used to retrieve data from the database. It includes commands such as SELECT.\n",
    "\n",
    "SELECT is used to retrieve data from one or more tables in the database. For example, the following SQL command retrieves all the data from the \"students\" table:\n",
    "\n",
    "SELECT * FROM students;\n",
    "\n",
    "This will return a result set with all the rows and columns in the \"students\" table."
   ]
  },
  {
   "cell_type": "markdown",
   "metadata": {},
   "source": [
    "## Q5. Explain Primary Key and Foreign Key."
   ]
  },
  {
   "cell_type": "markdown",
   "metadata": {},
   "source": [
    "Primary Key is a column or a set of columns in a table that uniquely identifies each row in that table. A primary key is used to enforce the integrity of the data and ensure that each row is unique. A table can have only one primary key.\n",
    "\n",
    "Foreign Key is a column or a set of columns in a table that refers to the primary key of another table. It establishes a relationship between two tables and ensures that the data is consistent between them. A table can have multiple foreign keys.\n",
    "\n",
    "For example, let's say we have two tables: \"students\" and \"courses\". The \"students\" table has a primary key \"student_id\", and the \"courses\" table has a primary key \"course_id\". The \"enrollment\" table is used to track which students are enrolled in which courses, and it has two foreign keys: \"student_id\" and \"course_id\". These foreign keys reference the primary keys of the \"students\" and \"courses\" tables, respectively."
   ]
  },
  {
   "cell_type": "markdown",
   "metadata": {},
   "source": [
    "## Q6. Write a python code to connect MySQL to python. Explain the cursor() and execute() method."
   ]
  },
  {
   "cell_type": "markdown",
   "metadata": {},
   "source": [
    "To connect to a MySQL database using Python, you need to install the mysql-connector-python package and import the mysql.connector module. Here's an example code to connect to a MySQL database:"
   ]
  },
  {
   "cell_type": "code",
   "execution_count": null,
   "metadata": {},
   "outputs": [],
   "source": [
    "import mysql.connector\n",
    "\n",
    "# connect to the database\n",
    "mydb = mysql.connector.connect(\n",
    "  host=\"localhost\",\n",
    "  user=\"yourusername\",\n",
    "  password=\"yourpassword\",\n",
    "  database=\"yourdatabase\"\n",
    ")\n",
    "\n",
    "# create a cursor object\n",
    "mycursor = mydb.cursor()\n",
    "\n",
    "# execute a SQL query\n",
    "mycursor.execute(\"SELECT * FROM customers\")\n",
    "\n",
    "# fetch the result set\n",
    "result = mycursor.fetchall()\n",
    "\n",
    "# print the result set\n",
    "for row in result:\n",
    "  print(row)\n"
   ]
  },
  {
   "cell_type": "markdown",
   "metadata": {},
   "source": [
    "The cursor() method creates a cursor object that allows you to execute SQL queries and fetch the results. The execute() method is used to execute a SQL query. The fetchall() method fetches all the rows from the result set, and the fetchone() method fetches one row at a time."
   ]
  },
  {
   "cell_type": "markdown",
   "metadata": {},
   "source": [
    "## Q7. Give the order of execution of SQL clauses in an SQL query."
   ]
  },
  {
   "cell_type": "markdown",
   "metadata": {},
   "source": [
    "The order of execution of SQL clauses in an SQL query is as follows:\n",
    "\n",
    "FROM - specifies the tables to retrieve data from\n",
    "\n",
    "JOIN - joins two or more tables based on a common column\n",
    "\n",
    "WHERE - filters the data based on certain conditions\n",
    "\n",
    "GROUP BY - groups the data based on one or more columns\n",
    "\n",
    "HAVING - filters the data based on the groups created by the GROUP BY clause\n",
    "\n",
    "SELECT - retrieves the columns to display in the result set\n",
    "\n",
    "ORDER BY - sorts the result set based on one or more columns\n",
    "\n",
    "LIMIT - limits the number of rows returned in the result set"
   ]
  },
  {
   "cell_type": "code",
   "execution_count": null,
   "metadata": {},
   "outputs": [],
   "source": []
  }
 ],
 "metadata": {
  "kernelspec": {
   "display_name": "Python 3",
   "language": "python",
   "name": "python3"
  },
  "language_info": {
   "codemirror_mode": {
    "name": "ipython",
    "version": 3
   },
   "file_extension": ".py",
   "mimetype": "text/x-python",
   "name": "python",
   "nbconvert_exporter": "python",
   "pygments_lexer": "ipython3",
   "version": "3.8.8"
  }
 },
 "nbformat": 4,
 "nbformat_minor": 4
}
