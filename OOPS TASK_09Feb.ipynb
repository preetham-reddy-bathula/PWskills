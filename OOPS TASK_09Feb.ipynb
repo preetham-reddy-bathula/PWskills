{
 "cells": [
  {
   "cell_type": "markdown",
   "metadata": {},
   "source": [
    "## Q1. Create a vehicle class with an init method having instance variables as name_of_vehicle, max_speed and average_of_vehicle."
   ]
  },
  {
   "cell_type": "code",
   "execution_count": 1,
   "metadata": {},
   "outputs": [],
   "source": [
    "class Vehicle:\n",
    "    def __init__(self, name_of_vehicle, max_speed, average_of_vehicle):\n",
    "        self.name_of_vehicle=name_of_vehicle\n",
    "        self.max_speed = max_speed\n",
    "        self.average_of_vehicle=average_of_vehicle"
   ]
  },
  {
   "cell_type": "markdown",
   "metadata": {},
   "source": [
    "## Q2. Create a child class car from the vehicle class created in Que 1, which will inherit the vehicle class. Create a method named seating_capacity which takes capacity as an argument and returns the name of the vehicle and its seating capacity."
   ]
  },
  {
   "cell_type": "code",
   "execution_count": 2,
   "metadata": {},
   "outputs": [],
   "source": [
    "class Car(Vehicle):\n",
    "    def seating_capacity(self, capacity):\n",
    "        return f\"Name = {self.name_of_vehicle} , Capacity = {capacity}\""
   ]
  },
  {
   "cell_type": "markdown",
   "metadata": {},
   "source": [
    "## Q3. What is multiple inheritance? Write a python code to demonstrate multiple inheritance."
   ]
  },
  {
   "cell_type": "markdown",
   "metadata": {},
   "source": [
    "Multiple inheritance is a feature in object-oriented programming languages that allows a class to inherit properties and methods from multiple parent classes."
   ]
  },
  {
   "cell_type": "code",
   "execution_count": 3,
   "metadata": {},
   "outputs": [
    {
     "name": "stdout",
     "output_type": "stream",
     "text": [
      "Parent1\n",
      "Parent2\n",
      "Child\n"
     ]
    }
   ],
   "source": [
    "class Parent1:\n",
    "    def meth1(self):\n",
    "        print(\"Parent1\")\n",
    "        \n",
    "class Parent2:\n",
    "    def meth2(self):\n",
    "        print(\"Parent2\")\n",
    "        \n",
    "class Child(Parent1, Parent2):\n",
    "    def meth3(self):\n",
    "        print(\"Child\")\n",
    "    \n",
    "c = Child()\n",
    "c.meth1()\n",
    "c.meth2()\n",
    "c.meth3()"
   ]
  },
  {
   "cell_type": "markdown",
   "metadata": {},
   "source": [
    "## Q4. What are getter and setter in python? Create a class and create a getter and a setter method in this class."
   ]
  },
  {
   "cell_type": "markdown",
   "metadata": {},
   "source": [
    "Getters and setters are methods that allow access to and control of an object's attributes. In Python, these methods typically have the names get_attribute and set_attribute."
   ]
  },
  {
   "cell_type": "code",
   "execution_count": 4,
   "metadata": {},
   "outputs": [
    {
     "name": "stdout",
     "output_type": "stream",
     "text": [
      "10\n",
      "20\n"
     ]
    }
   ],
   "source": [
    "class MyClass:\n",
    "    def __init__(self, value):\n",
    "        self._value = value\n",
    "\n",
    "    def get_value(self):\n",
    "        return self._value\n",
    "\n",
    "    def set_value(self, value):\n",
    "        self._value = value\n",
    "\n",
    "obj = MyClass(10)\n",
    "print(obj.get_value())\n",
    "obj.set_value(20)\n",
    "print(obj.get_value())"
   ]
  },
  {
   "cell_type": "markdown",
   "metadata": {},
   "source": [
    "## Q5.What is method overriding in python? Write a python code to demonstrate method overriding."
   ]
  },
  {
   "cell_type": "markdown",
   "metadata": {},
   "source": [
    "Method overriding is the ability of a subclass to provide a different implementation for a method defined in its parent class"
   ]
  },
  {
   "cell_type": "code",
   "execution_count": 5,
   "metadata": {},
   "outputs": [
    {
     "name": "stdout",
     "output_type": "stream",
     "text": [
      "Child Method\n"
     ]
    }
   ],
   "source": [
    "class Parent:\n",
    "    def method(self):\n",
    "        print(\"Parent Method\")\n",
    "\n",
    "class Child(Parent):\n",
    "    def method(self):\n",
    "        print(\"Child Method\")\n",
    "\n",
    "obj = Child()\n",
    "obj.method()"
   ]
  }
 ],
 "metadata": {
  "kernelspec": {
   "display_name": "Python 3",
   "language": "python",
   "name": "python3"
  },
  "language_info": {
   "codemirror_mode": {
    "name": "ipython",
    "version": 3
   },
   "file_extension": ".py",
   "mimetype": "text/x-python",
   "name": "python",
   "nbconvert_exporter": "python",
   "pygments_lexer": "ipython3",
   "version": "3.8.8"
  }
 },
 "nbformat": 4,
 "nbformat_minor": 4
}
