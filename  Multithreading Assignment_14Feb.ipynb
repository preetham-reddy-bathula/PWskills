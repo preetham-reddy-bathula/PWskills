{
 "cells": [
  {
   "cell_type": "markdown",
   "metadata": {},
   "source": [
    "## Q1. What is multithreading in python? Why is it used? Name the module used to handle threads in python."
   ]
  },
  {
   "cell_type": "markdown",
   "metadata": {},
   "source": [
    "Multithreading in Python refers to the ability of a program to execute multiple threads simultaneously. Each thread is an independent flow of execution that shares the same memory space. Multithreading is used to improve the performance of a program by taking advantage of the multiple CPU cores in modern computers.\n",
    "\n",
    "The module used to handle threads in Python is the \"threading\" module."
   ]
  },
  {
   "cell_type": "markdown",
   "metadata": {},
   "source": [
    "## Q2. Why is the threading module used? Write the use of the following functions:"
   ]
  },
  {
   "cell_type": "markdown",
   "metadata": {},
   "source": [
    "activeCount(): The \"activeCount()\" function returns the number of currently active threads in the program.\n",
    "\n",
    "currentThread(): The \"currentThread()\" function returns a reference to the currently executing thread object.\n",
    "\n",
    "enumerate(): The \"enumerate()\" function returns a list of all the currently active thread objects."
   ]
  },
  {
   "cell_type": "markdown",
   "metadata": {},
   "source": [
    "## Q3. Explain the following functions:\n",
    "\n"
   ]
  },
  {
   "cell_type": "markdown",
   "metadata": {},
   "source": [
    "run(): The \"run()\" function is the entry point for a thread's execution. It defines the behavior of the thread when it is started.\n",
    "\n",
    "start(): The \"start()\" function starts the execution of a thread by calling the \"run()\" function.\n",
    "\n",
    "join(): The \"join()\" function blocks the calling thread until the target thread completes its execution.\n",
    "\n",
    "isAlive(): The \"isAlive()\" function returns a Boolean value that indicates whether the thread is currently executing."
   ]
  },
  {
   "cell_type": "markdown",
   "metadata": {},
   "source": [
    "## Q4. Write a python program to create two threads. Thread one must print the list of squares and thread two must print the list of cubes."
   ]
  },
  {
   "cell_type": "code",
   "execution_count": 1,
   "metadata": {},
   "outputs": [
    {
     "name": "stdout",
     "output_type": "stream",
     "text": [
      "1\n",
      "4\n",
      "9\n",
      "16\n",
      "25\n",
      "36\n",
      "49\n",
      "64\n",
      "81\n",
      "100\n",
      "1\n",
      "8\n",
      "27\n",
      "64\n",
      "125\n",
      "216\n",
      "343\n",
      "512\n",
      "729\n",
      "1000\n"
     ]
    }
   ],
   "source": [
    "import threading\n",
    "\n",
    "def print_squares():\n",
    "    for i in range(1, 11):\n",
    "        print(i*i)\n",
    "\n",
    "def print_cubes():\n",
    "    for i in range(1, 11):\n",
    "        print(i*i*i)\n",
    "\n",
    "t1 = threading.Thread(target=print_squares)\n",
    "t2 = threading.Thread(target=print_cubes)\n",
    "\n",
    "t1.start()\n",
    "t2.start()\n",
    "\n",
    "t1.join()\n",
    "t2.join()\n"
   ]
  },
  {
   "cell_type": "markdown",
   "metadata": {},
   "source": [
    "## Q5. State advantages and disadvantages of multithreading."
   ]
  },
  {
   "cell_type": "markdown",
   "metadata": {},
   "source": [
    "Advantages of multithreading:\n",
    "\n",
    "Improved program performance and faster execution times.\n",
    "\n",
    "Efficient use of CPU resources in multi-core systems.\n",
    "\n",
    "Simplified program structure, as threads can communicate and share data more easily than separate processes.\n",
    "\n",
    "Ability to perform multiple tasks simultaneously, leading to better overall program responsiveness.\n",
    "\n",
    "Disadvantages of multithreading:\n",
    "\n",
    "Increased program complexity, as thread synchronization and data sharing can be difficult to manage.\n",
    "\n",
    "Difficulty in debugging and identifying issues related to thread synchronization and race conditions.\n",
    "\n",
    "Potential for deadlock and other synchronization issues if not properly implemented.\n"
   ]
  },
  {
   "cell_type": "markdown",
   "metadata": {},
   "source": [
    "## Q6. Explain deadlocks and race conditions."
   ]
  },
  {
   "cell_type": "markdown",
   "metadata": {},
   "source": [
    "Deadlocks occur when two or more threads are blocked indefinitely, waiting for each other to release resources that they need in order to proceed. This can occur when each thread holds a resource that the other thread needs, and neither thread is willing to release its resource until it has acquired the other resource.\n",
    "\n",
    "Race conditions occur when two or more threads access a shared resource concurrently, and the final outcome depends on the relative timing and ordering of the thread execution. This can lead to unexpected results or errors in the program, as the order of execution cannot be guaranteed. Synchronization techniques such as locks and semaphores can be used to prevent race conditions and ensure correct program behavior."
   ]
  },
  {
   "cell_type": "code",
   "execution_count": null,
   "metadata": {},
   "outputs": [],
   "source": []
  }
 ],
 "metadata": {
  "kernelspec": {
   "display_name": "Python 3",
   "language": "python",
   "name": "python3"
  },
  "language_info": {
   "codemirror_mode": {
    "name": "ipython",
    "version": 3
   },
   "file_extension": ".py",
   "mimetype": "text/x-python",
   "name": "python",
   "nbconvert_exporter": "python",
   "pygments_lexer": "ipython3",
   "version": "3.8.8"
  }
 },
 "nbformat": 4,
 "nbformat_minor": 4
}
